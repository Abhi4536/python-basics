{
  "nbformat": 4,
  "nbformat_minor": 0,
  "metadata": {
    "colab": {
      "provenance": []
    },
    "kernelspec": {
      "name": "python3",
      "display_name": "Python 3"
    },
    "language_info": {
      "name": "python"
    }
  },
  "cells": [
    {
      "cell_type": "code",
      "execution_count": null,
      "metadata": {
        "id": "0wkQUlwAoMcg"
      },
      "outputs": [],
      "source": []
    },
    {
      "cell_type": "markdown",
      "source": [
        "python basics\n"
      ],
      "metadata": {
        "id": "54gGaOVroTSg"
      }
    },
    {
      "cell_type": "markdown",
      "source": [
        "1)What is Python, and why is it popular?\n",
        "Python is a high-level, interpreted programming language known for its simplicity, readability, and versatility. It is popular because it supports multiple programming paradigms (procedural, object-oriented, and functional), has a vast ecosystem of libraries, and is widely used in web development, data science, AI, and automation.\n",
        "\n",
        "2)What is an interpreter in Python?\n",
        "The Python interpreter is a program that executes Python code line by line. It converts high-level Python code into machine-understandable instructions at runtime.\n",
        "\n",
        "3)What are pre-defined keywords in Python?\n",
        "Pre-defined keywords in Python are reserved words with special meanings that cannot be used as variable names. Examples include if, else, while, for, def, class, import, etc.\n",
        "\n",
        "4)Can keywords be used as variable names?\n",
        "No, Python keywords cannot be used as variable names because they have predefined functions in the language.\n",
        "\n",
        "5)What is mutability in Python?\n",
        "Mutability refers to whether an object’s value can be changed after creation. Mutable objects can be modified, while immutable objects cannot.\n",
        "\n",
        "6)Why are lists mutable, but tuples are immutable?\n",
        "Lists are mutable because their elements can be changed, added, or removed after creation. Tuples are immutable because they are designed to be hashable and used as dictionary keys, ensuring data integrity.\n",
        "\n",
        "7)What is the difference between == and is operators in Python?\n",
        "\n",
        "== checks if the values of two variables are equal.\n",
        "is checks if two variables point to the same memory location (object identity).\n",
        "\n",
        "8)What are logical operators in Python?\n",
        "Logical operators are used to combine conditional statements:\n",
        "\n",
        "and (both conditions must be true)\n",
        "or (at least one condition must be true)\n",
        "not (negates a condition)\n",
        "\n",
        "9)What is type casting in Python?\n",
        "Type casting is the process of converting one data type to another. It can be implicit (automatic) or explicit (manual).\n",
        "\n",
        "10)What is the difference between implicit and explicit type casting?\n",
        "\n",
        "Implicit casting: Python automatically converts a smaller data type to a larger one (e.g., int to float).\n",
        "Explicit casting: The programmer manually converts a data type using functions like int(), float(), str().\n",
        "\n",
        "11)What is the purpose of conditional statements in Python?\n",
        "Conditional statements control the flow of a program by executing different code blocks based on conditions (if, elif, else).\n",
        "\n",
        "12)How does the elif statement work?\n",
        "The elif statement allows checking multiple conditions in an if-elif-else structure. If the first condition is false, it checks the next one.\n",
        "\n",
        "13)What is the difference between for and while loops?\n",
        "\n",
        "for loop: Used when the number of iterations is known (iterates over a sequence).\n",
        "while loop: Used when the number of iterations is unknown and depends on a condition.\n",
        "\n",
        "14)Describe a scenario where a while loop is more suitable than a for loop.\n",
        "A while loop is better when looping until a user provides valid input"
      ],
      "metadata": {
        "id": "e_OB_P1noWxW"
      }
    },
    {
      "cell_type": "code",
      "source": [
        "#example\n",
        "\n",
        "password = \"\"\n",
        "while password != \"1234\":\n",
        "    password = input(\"Enter password: \")\n",
        "print(\"Access granted\")\n"
      ],
      "metadata": {
        "colab": {
          "base_uri": "https://localhost:8080/"
        },
        "id": "2jSJz-gWqBzI",
        "outputId": "03d51d4c-94f1-472f-8d6f-9d769801a040"
      },
      "execution_count": 1,
      "outputs": [
        {
          "output_type": "stream",
          "name": "stdout",
          "text": [
            "Enter password: 123\n",
            "Enter password: 123\n",
            "Enter password: \n",
            "Enter password: 1234\n",
            "Access granted\n"
          ]
        }
      ]
    },
    {
      "cell_type": "code",
      "source": [
        "# Write a Python program to print \"Hello, World!\n",
        "print(\"Hello, World!\")\n"
      ],
      "metadata": {
        "colab": {
          "base_uri": "https://localhost:8080/"
        },
        "id": "tiojfY9cqJVY",
        "outputId": "b5d39e34-92f8-4bd5-a1c7-93ba363e5836"
      },
      "execution_count": 2,
      "outputs": [
        {
          "output_type": "stream",
          "name": "stdout",
          "text": [
            "Hello, World!\n"
          ]
        }
      ]
    },
    {
      "cell_type": "code",
      "source": [
        "#2 Write a Python program that displays your name and age\n",
        "name = \"abhinav\"\n",
        "age = 21\n",
        "print(f\"My name is {name} and I am {age} years old.\")\n"
      ],
      "metadata": {
        "colab": {
          "base_uri": "https://localhost:8080/"
        },
        "id": "5BQDIzw2qJR3",
        "outputId": "462ed568-1537-4357-c5de-7ceaa62d2e51"
      },
      "execution_count": 4,
      "outputs": [
        {
          "output_type": "stream",
          "name": "stdout",
          "text": [
            "My name is abhinav and I am 21 years old.\n"
          ]
        }
      ]
    },
    {
      "cell_type": "code",
      "source": [
        "#3 Write code to print all the pre-defined keywords in Python using the keyword library\n",
        "import keyword\n",
        "print(keyword.kwlist)\n"
      ],
      "metadata": {
        "colab": {
          "base_uri": "https://localhost:8080/"
        },
        "id": "5tQjQAwNqJOR",
        "outputId": "1cd10a3c-0ea3-40e6-fc1c-305279e0de81"
      },
      "execution_count": 5,
      "outputs": [
        {
          "output_type": "stream",
          "name": "stdout",
          "text": [
            "['False', 'None', 'True', 'and', 'as', 'assert', 'async', 'await', 'break', 'class', 'continue', 'def', 'del', 'elif', 'else', 'except', 'finally', 'for', 'from', 'global', 'if', 'import', 'in', 'is', 'lambda', 'nonlocal', 'not', 'or', 'pass', 'raise', 'return', 'try', 'while', 'with', 'yield']\n"
          ]
        }
      ]
    },
    {
      "cell_type": "code",
      "source": [
        "#4 Write a program that checks if a given word is a Python keyword.\n",
        "import keyword\n",
        "\n",
        "word = input(\"Enter a word: \")\n",
        "if keyword.iskeyword(word):\n",
        "    print(f\"'{word}' is a Python keyword.\")\n",
        "else:\n",
        "    print(f\"'{word}' is not a Python keyword.\")\n"
      ],
      "metadata": {
        "colab": {
          "base_uri": "https://localhost:8080/"
        },
        "id": "fWlcToWeqJL-",
        "outputId": "c95c1c46-6d43-4bcf-9e7f-5b567fe584e1"
      },
      "execution_count": 8,
      "outputs": [
        {
          "output_type": "stream",
          "name": "stdout",
          "text": [
            "Enter a word: and\n",
            "'and' is a Python keyword.\n"
          ]
        }
      ]
    },
    {
      "cell_type": "code",
      "source": [
        "#5  Create a list and tuple in Python, and demonstrate how attempting to change an element works differently\n",
        "#for each.\n",
        "\n",
        "my_list = [1, 2, 3]\n",
        "my_tuple = (1, 2, 3)\n",
        "\n",
        "\n",
        "my_list[0] = 10\n",
        "print(\"Modified list:\", my_list)\n",
        "\n",
        "try:\n",
        "    my_tuple[0] = 10\n",
        "except TypeError as e:\n",
        "    print(\"Error:\", e)\n",
        "\n",
        "\n"
      ],
      "metadata": {
        "colab": {
          "base_uri": "https://localhost:8080/"
        },
        "id": "UgQYWcssqJBj",
        "outputId": "721eb48e-0062-46c1-b743-cb6318c0a036"
      },
      "execution_count": 12,
      "outputs": [
        {
          "output_type": "stream",
          "name": "stdout",
          "text": [
            "Modified list: [10, 2, 3]\n",
            "Error: 'tuple' object does not support item assignment\n"
          ]
        }
      ]
    },
    {
      "cell_type": "code",
      "source": [
        "#6  Write a function to demonstrate the behavior of mutable and immutable arguments.\n",
        "def modify_data(my_list, my_number):\n",
        "\n",
        "    my_list.append(100)\n",
        "\n",
        "    my_number += 10\n",
        "\n",
        "    print(\"Inside function - List:\", my_list)\n",
        "    print(\"Inside function - Number:\", my_number)\n",
        "\n",
        "\n",
        "num_list = [1, 2, 3]\n",
        "num = 5\n",
        "\n",
        "print(\"Before function call - List:\", num_list)\n",
        "print(\"Before function call - Number:\", num)\n",
        "\n",
        "modify_data(num_list, num)\n",
        "\n",
        "print(\"After function call - List:\", num_list)\n",
        "print(\"After function call - Number:\", num)\n"
      ],
      "metadata": {
        "colab": {
          "base_uri": "https://localhost:8080/"
        },
        "id": "vGG2haDyqI-x",
        "outputId": "27e62287-556b-4df5-fff4-b87e0522738c"
      },
      "execution_count": 13,
      "outputs": [
        {
          "output_type": "stream",
          "name": "stdout",
          "text": [
            "Before function call - List: [1, 2, 3]\n",
            "Before function call - Number: 5\n",
            "Inside function - List: [1, 2, 3, 100]\n",
            "Inside function - Number: 15\n",
            "After function call - List: [1, 2, 3, 100]\n",
            "After function call - Number: 5\n"
          ]
        }
      ]
    },
    {
      "cell_type": "code",
      "source": [
        "#7 Write a program that performs basic arithmetic operations on two user-input numbers.\n",
        "\n",
        "num1 = float(input(\"Enter the first number: \"))\n",
        "num2 = float(input(\"Enter the second number: \"))\n",
        "\n",
        "sum_result = num1 + num2\n",
        "difference = num1 - num2\n",
        "product = num1 * num2\n",
        "quotient = num1 / num2 if num2 != 0 else \"Cannot divide by zero\"\n",
        "modulus = num1 % num2 if num2 != 0 else \"Undefined (division by zero)\"\n",
        "power = num1 ** num2\n",
        "\n",
        "print(f\"Sum: {sum_result}\")\n",
        "print(f\"Difference: {difference}\")\n",
        "print(f\"Product: {product}\")\n",
        "print(f\"Quotient: {quotient}\")\n",
        "print(f\"Modulus: {modulus}\")\n",
        "print(f\"Power: {power}\")\n"
      ],
      "metadata": {
        "colab": {
          "base_uri": "https://localhost:8080/"
        },
        "id": "7aUcqk53qI8I",
        "outputId": "8a3731a4-49aa-4285-b421-15aed9eedaa1"
      },
      "execution_count": 14,
      "outputs": [
        {
          "output_type": "stream",
          "name": "stdout",
          "text": [
            "Enter the first number: 32\n",
            "Enter the second number: 45\n",
            "Sum: 77.0\n",
            "Difference: -13.0\n",
            "Product: 1440.0\n",
            "Quotient: 0.7111111111111111\n",
            "Modulus: 32.0\n",
            "Power: 5.391989333430128e+67\n"
          ]
        }
      ]
    },
    {
      "cell_type": "code",
      "source": [
        "#8  Write a program to demonstrate the use of logical operators.\n",
        "\n",
        "a = int(input(\"Enter first number: \"))\n",
        "b = int(input(\"Enter second number: \"))\n",
        "\n",
        "print(\"Logical AND (a > 0 and b > 0):\", a > 0 and b > 0)\n",
        "print(\"Logical OR (a > 0 or b > 0):\", a > 0 or b > 0)\n",
        "print(\"Logical NOT (not (a > 0)):\", not (a > 0))\n",
        "\n",
        "x = True\n",
        "y = False\n",
        "\n",
        "print(\"\\nUsing boolean values:\")\n",
        "print(\"x and y:\", x and y)\n",
        "print(\"x or y:\", x or y)\n",
        "print(\"not x:\", not x)\n"
      ],
      "metadata": {
        "colab": {
          "base_uri": "https://localhost:8080/"
        },
        "id": "H6eK13Y0qI5Y",
        "outputId": "3da9e4ca-381e-4fcb-b309-7aafeff946f7"
      },
      "execution_count": 15,
      "outputs": [
        {
          "output_type": "stream",
          "name": "stdout",
          "text": [
            "Enter first number: 21\n",
            "Enter second number: 33\n",
            "Logical AND (a > 0 and b > 0): True\n",
            "Logical OR (a > 0 or b > 0): True\n",
            "Logical NOT (not (a > 0)): False\n",
            "\n",
            "Using boolean values:\n",
            "x and y: False\n",
            "x or y: True\n",
            "not x: False\n"
          ]
        }
      ]
    },
    {
      "cell_type": "code",
      "source": [
        "#9 Write a Python program to convert user input from string to integer, float, and boolean types.\n",
        "\n",
        "user_input = input(\"Enter a value: \")\n",
        "\n",
        "try:\n",
        "    int_value = int(user_input)\n",
        "    print(\"Integer:\", int_value)\n",
        "except ValueError:\n",
        "    print(\"Cannot convert to integer.\")\n",
        "\n",
        "try:\n",
        "    float_value = float(user_input)\n",
        "    print(\"Float:\", float_value)\n",
        "except ValueError:\n",
        "    print(\"Cannot convert to float.\")\n",
        "\n",
        "bool_value = bool(user_input)\n",
        "print(\"Boolean:\", bool_value)\n"
      ],
      "metadata": {
        "colab": {
          "base_uri": "https://localhost:8080/"
        },
        "id": "4XRBU28aqItk",
        "outputId": "e7522d86-3207-432b-c834-1e5b1d63cb70"
      },
      "execution_count": 16,
      "outputs": [
        {
          "output_type": "stream",
          "name": "stdout",
          "text": [
            "Enter a value: 55\n",
            "Integer: 55\n",
            "Float: 55.0\n",
            "Boolean: True\n"
          ]
        }
      ]
    },
    {
      "cell_type": "code",
      "source": [
        "#10  Write code to demonstrate type casting with list elements.\n",
        "\n",
        "str_list = [\"1\", \"2\", \"3\", \"4.5\", \"5.6\"]\n",
        "\n",
        "try:\n",
        "    int_list = list(map(int, str_list))\n",
        "    print(\"List converted to integers:\", int_list)\n",
        "except ValueError:\n",
        "    print(\"Some elements could not be converted to integers.\")\n",
        "\n",
        "float_list = list(map(float, str_list))\n",
        "print(\"List converted to floats:\", float_list)\n",
        "\n",
        "\n",
        "bool_list = list(map(bool, str_list))\n",
        "print(\"List converted to booleans:\", bool_list)\n"
      ],
      "metadata": {
        "colab": {
          "base_uri": "https://localhost:8080/"
        },
        "id": "wenMrniutf9J",
        "outputId": "caeffc5b-b965-4419-dcf3-6de75cbea274"
      },
      "execution_count": 17,
      "outputs": [
        {
          "output_type": "stream",
          "name": "stdout",
          "text": [
            "Some elements could not be converted to integers.\n",
            "List converted to floats: [1.0, 2.0, 3.0, 4.5, 5.6]\n",
            "List converted to booleans: [True, True, True, True, True]\n"
          ]
        }
      ]
    },
    {
      "cell_type": "code",
      "source": [
        "#11 Write a program that checks if a number is positive, negative, or zero.\n",
        "\n",
        "num = float(input(\"Enter a number: \"))\n",
        "\n",
        "\n",
        "if num > 0:\n",
        "    print(\"The number is Positive.\")\n",
        "elif num < 0:\n",
        "    print(\"The number is Negative.\")\n",
        "else:\n",
        "    print(\"The number is Zero.\")\n"
      ],
      "metadata": {
        "colab": {
          "base_uri": "https://localhost:8080/"
        },
        "id": "Oj4WxxsQtfvz",
        "outputId": "b57b6e28-51d8-4998-8810-c16dd530e899"
      },
      "execution_count": 18,
      "outputs": [
        {
          "output_type": "stream",
          "name": "stdout",
          "text": [
            "Enter a number: -22\n",
            "The number is Negative.\n"
          ]
        }
      ]
    },
    {
      "cell_type": "code",
      "source": [
        "#12 Write a for loop to print numbers from 1 to 10.\n",
        "\n",
        "\n",
        "for i in range(1, 11):\n",
        "    print(i)\n"
      ],
      "metadata": {
        "colab": {
          "base_uri": "https://localhost:8080/"
        },
        "id": "WcPJNujQtfkL",
        "outputId": "f08bb7b7-11e5-4843-a554-27ae06eaf9ed"
      },
      "execution_count": 19,
      "outputs": [
        {
          "output_type": "stream",
          "name": "stdout",
          "text": [
            "1\n",
            "2\n",
            "3\n",
            "4\n",
            "5\n",
            "6\n",
            "7\n",
            "8\n",
            "9\n",
            "10\n"
          ]
        }
      ]
    },
    {
      "cell_type": "code",
      "source": [
        "#13 Write a Python program to find the sum of all even numbers between 1 and 50.\n",
        "\n",
        "\n",
        "sum_even = 0\n",
        "\n",
        "for num in range(2, 51, 2):\n",
        "    sum_even += num\n",
        "\n",
        "\n",
        "print(\"Sum of all even numbers between 1 and 50:\", sum_even)\n"
      ],
      "metadata": {
        "colab": {
          "base_uri": "https://localhost:8080/"
        },
        "id": "0fLnNXmAtfei",
        "outputId": "7acb46a6-e473-4f3b-de41-8111a2bd3fee"
      },
      "execution_count": 20,
      "outputs": [
        {
          "output_type": "stream",
          "name": "stdout",
          "text": [
            "Sum of all even numbers between 1 and 50: 650\n"
          ]
        }
      ]
    },
    {
      "cell_type": "code",
      "source": [
        "#14 Write a program to reverse a string using a while loop.\n",
        "\n",
        "string = input(\"Enter a string: \")\n",
        "\n",
        "\n",
        "reversed_string = \"\"\n",
        "index = len(string) - 1\n",
        "\n",
        "while index >= 0:\n",
        "    reversed_string += string[index]\n",
        "    index -= 1\n",
        "\n",
        "print(\"Reversed string:\", reversed_string)\n"
      ],
      "metadata": {
        "colab": {
          "base_uri": "https://localhost:8080/"
        },
        "id": "ljrpGunxtfTo",
        "outputId": "625f5bfd-e8f7-4183-a0fa-3a018a4beb89"
      },
      "execution_count": 21,
      "outputs": [
        {
          "output_type": "stream",
          "name": "stdout",
          "text": [
            "Enter a string: good morning\n",
            "Reversed string: gninrom doog\n"
          ]
        }
      ]
    },
    {
      "cell_type": "code",
      "source": [
        "#15  Write a Python program to calculate the factorial of a number provided by the user using a while loop.\n",
        "\n",
        "\n",
        "num = int(input(\"Enter a number: \"))\n",
        "\n",
        "\n",
        "factorial = 1\n",
        "n = num\n",
        "\n",
        "if num < 0:\n",
        "    print(\"Factorial is not defined for negative numbers.\")\n",
        "elif num == 0:\n",
        "    print(\"Factorial of 0 is 1.\")\n",
        "else:\n",
        "\n",
        "    while n > 1:\n",
        "        factorial *= n\n",
        "        n -= 1\n",
        "\n",
        "    print(f\"Factorial of {num} is {factorial}\")\n"
      ],
      "metadata": {
        "colab": {
          "base_uri": "https://localhost:8080/"
        },
        "id": "ccmXUJVTuEI2",
        "outputId": "26025995-13db-405c-d195-559e2ed78e70"
      },
      "execution_count": 22,
      "outputs": [
        {
          "output_type": "stream",
          "name": "stdout",
          "text": [
            "Enter a number: 6\n",
            "Factorial of 6 is 720\n"
          ]
        }
      ]
    },
    {
      "cell_type": "code",
      "source": [],
      "metadata": {
        "id": "Jux6j1I-uEGR"
      },
      "execution_count": null,
      "outputs": []
    },
    {
      "cell_type": "code",
      "source": [],
      "metadata": {
        "id": "WZtcPV5fuEDh"
      },
      "execution_count": null,
      "outputs": []
    }
  ]
}